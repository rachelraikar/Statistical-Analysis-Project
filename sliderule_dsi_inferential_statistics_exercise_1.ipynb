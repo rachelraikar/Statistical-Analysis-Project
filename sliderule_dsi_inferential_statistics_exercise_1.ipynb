{
 "cells": [
  {
   "cell_type": "markdown",
   "metadata": {},
   "source": [
    "# What is the True Normal Human Body Temperature? \n",
    "\n",
    "#### Background\n",
    "\n",
    "The mean normal body temperature was held to be 37$^{\\circ}$C or 98.6$^{\\circ}$F for more than 120 years since it was first conceptualized and reported by Carl Wunderlich in a famous 1868 book. But, is this value statistically correct?"
   ]
  },
  {
   "cell_type": "markdown",
   "metadata": {},
   "source": [
    "<h3>Exercises</h3>\n",
    "\n",
    "<p>In this exercise, you will analyze a dataset of human body temperatures and employ the concepts of hypothesis testing, confidence intervals, and statistical significance.</p>\n",
    "\n",
    "<p>Answer the following questions <b>in this notebook below and submit to your Github account</b>.</p> \n",
    "\n",
    "<ol>\n",
    "<li>  Is the distribution of body temperatures normal? \n",
    "    <ul>\n",
    "    <li> Although this is not a requirement for the Central Limit Theorem to hold (read the introduction on Wikipedia's page about the CLT carefully: https://en.wikipedia.org/wiki/Central_limit_theorem), it gives us some peace of mind that the population may also be normally distributed if we assume that this sample is representative of the population.\n",
    "    <li> Think about the way you're going to check for the normality of the distribution. Graphical methods are usually used first, but there are also other ways: https://en.wikipedia.org/wiki/Normality_test\n",
    "    </ul>\n",
    "<li>  Is the sample size large? Are the observations independent?\n",
    "    <ul>\n",
    "    <li> Remember that this is a condition for the Central Limit Theorem, and hence the statistical tests we are using, to apply.\n",
    "    </ul>\n",
    "<li>  Is the true population mean really 98.6 degrees F?\n",
    "    <ul>\n",
    "    <li> First, try a bootstrap hypothesis test.\n",
    "    <li> Now, let's try frequentist statistical testing. Would you use a one-sample or two-sample test? Why?\n",
    "    <li> In this situation, is it appropriate to use the $t$ or $z$ statistic? \n",
    "    <li> Now try using the other test. How is the result be different? Why?\n",
    "    </ul>\n",
    "<li>  Draw a small sample of size 10 from the data and repeat both frequentist tests. \n",
    "    <ul>\n",
    "    <li> Which one is the correct one to use? \n",
    "    <li> What do you notice? What does this tell you about the difference in application of the $t$ and $z$ statistic?\n",
    "    </ul>\n",
    "<li>  At what temperature should we consider someone's temperature to be \"abnormal\"?\n",
    "    <ul>\n",
    "    <li> As in the previous example, try calculating everything using the boostrap approach, as well as the frequentist approach.\n",
    "    <li> Start by computing the margin of error and confidence interval. When calculating the confidence interval, keep in mind that you should use the appropriate formula for one draw, and not N draws.\n",
    "    </ul>\n",
    "<li>  Is there a significant difference between males and females in normal temperature?\n",
    "    <ul>\n",
    "    <li> What testing approach did you use and why?\n",
    "    <li> Write a story with your conclusion in the context of the original problem.\n",
    "    </ul>\n",
    "</ol>\n",
    "\n",
    "You can include written notes in notebook cells using Markdown: \n",
    "   - In the control panel at the top, choose Cell > Cell Type > Markdown\n",
    "   - Markdown syntax: http://nestacms.com/docs/creating-content/markdown-cheat-sheet\n",
    "\n",
    "#### Resources\n",
    "\n",
    "+ Information and data sources: http://www.amstat.org/publications/jse/datasets/normtemp.txt, http://www.amstat.org/publications/jse/jse_data_archive.htm\n",
    "+ Markdown syntax: http://nestacms.com/docs/creating-content/markdown-cheat-sheet\n",
    "\n",
    "****"
   ]
  },
  {
   "cell_type": "code",
   "execution_count": 133,
   "metadata": {},
   "outputs": [],
   "source": [
    "import pandas as pd\n",
    "\n",
    "df = pd.read_csv('data/human_body_temperature.csv')"
   ]
  },
  {
   "cell_type": "code",
   "execution_count": 134,
   "metadata": {
    "scrolled": true
   },
   "outputs": [],
   "source": [
    "#import all necessary modules\n",
    "import matplotlib.pyplot as plt\n",
    "import collections\n",
    "import numpy as np\n",
    "import pandas as pd\n",
    "import seaborn as sns\n",
    "from scipy import stats\n",
    "from matplotlib import path\n",
    "%matplotlib inline "
   ]
  },
  {
   "cell_type": "code",
   "execution_count": 135,
   "metadata": {},
   "outputs": [
    {
     "data": {
      "text/html": [
       "<div>\n",
       "<style scoped>\n",
       "    .dataframe tbody tr th:only-of-type {\n",
       "        vertical-align: middle;\n",
       "    }\n",
       "\n",
       "    .dataframe tbody tr th {\n",
       "        vertical-align: top;\n",
       "    }\n",
       "\n",
       "    .dataframe thead th {\n",
       "        text-align: right;\n",
       "    }\n",
       "</style>\n",
       "<table border=\"1\" class=\"dataframe\">\n",
       "  <thead>\n",
       "    <tr style=\"text-align: right;\">\n",
       "      <th></th>\n",
       "      <th>temperature</th>\n",
       "      <th>gender</th>\n",
       "      <th>heart_rate</th>\n",
       "    </tr>\n",
       "  </thead>\n",
       "  <tbody>\n",
       "    <tr>\n",
       "      <th>0</th>\n",
       "      <td>99.3</td>\n",
       "      <td>F</td>\n",
       "      <td>68.0</td>\n",
       "    </tr>\n",
       "    <tr>\n",
       "      <th>1</th>\n",
       "      <td>98.4</td>\n",
       "      <td>F</td>\n",
       "      <td>81.0</td>\n",
       "    </tr>\n",
       "    <tr>\n",
       "      <th>2</th>\n",
       "      <td>97.8</td>\n",
       "      <td>M</td>\n",
       "      <td>73.0</td>\n",
       "    </tr>\n",
       "    <tr>\n",
       "      <th>3</th>\n",
       "      <td>99.2</td>\n",
       "      <td>F</td>\n",
       "      <td>66.0</td>\n",
       "    </tr>\n",
       "    <tr>\n",
       "      <th>4</th>\n",
       "      <td>98.0</td>\n",
       "      <td>F</td>\n",
       "      <td>73.0</td>\n",
       "    </tr>\n",
       "  </tbody>\n",
       "</table>\n",
       "</div>"
      ],
      "text/plain": [
       "   temperature gender  heart_rate\n",
       "0         99.3      F        68.0\n",
       "1         98.4      F        81.0\n",
       "2         97.8      M        73.0\n",
       "3         99.2      F        66.0\n",
       "4         98.0      F        73.0"
      ]
     },
     "execution_count": 135,
     "metadata": {},
     "output_type": "execute_result"
    }
   ],
   "source": [
    "df.head()"
   ]
  },
  {
   "cell_type": "code",
   "execution_count": 136,
   "metadata": {},
   "outputs": [],
   "source": [
    "#Make an array of the temperature column of the df: df_temp\n",
    "df_temp = df['temperature']\n",
    "\n",
    "# Compute mean and standard deviation: df_mean, df_std\n",
    "df_mean = np.mean(df_temp)\n",
    "df_std = np.std(df_temp)"
   ]
  },
  {
   "cell_type": "markdown",
   "metadata": {},
   "source": [
    "## 1. Is the distribution of body temperatures normal?"
   ]
  },
  {
   "cell_type": "markdown",
   "metadata": {},
   "source": [
    "### Visual Test with CDFs"
   ]
  },
  {
   "cell_type": "markdown",
   "metadata": {},
   "source": [
    "Since the theoretical CDF and the ECDF of the data similar it suggest that the Temperatures are normally distributed. Also since the sample size n > 30, the sampling distribution can be approximated as normal"
   ]
  },
  {
   "cell_type": "code",
   "execution_count": 137,
   "metadata": {},
   "outputs": [],
   "source": [
    "# Sample out of a normal distribution with this mean and std: samples\n",
    "samples = np.random.normal(df_mean,df_std,size=10000)"
   ]
  },
  {
   "cell_type": "code",
   "execution_count": 138,
   "metadata": {
    "scrolled": true
   },
   "outputs": [
    {
     "data": {
      "image/png": "[encoded data removed]",
      "text/plain": [
       "<Figure size 432x288 with 1 Axes>"
      ]
     },
     "metadata": {
      "needs_background": "light"
     },
     "output_type": "display_data"
    }
   ],
   "source": [
    "#write a function that takes as input a 1D array of data and then returns the x and y values of the ECDF.\n",
    "\n",
    "def ecdf(data):\n",
    "    \"\"\"Compute ECDF for a one-dimensional array of measurements.\"\"\"\n",
    "    # Number of data points: n\n",
    "    n = len(data)\n",
    "\n",
    "    # x-data for the ECDF: x\n",
    "    x = np.sort(data)\n",
    "\n",
    "    # y-data for the ECDF: y\n",
    "    y = np.arange(1, n+1) / n\n",
    "\n",
    "    return x, y\n",
    "\n",
    "# Get the CDF of the samples and of the data\n",
    "x_theor,y_theor = ecdf(samples)\n",
    "x,y = ecdf(df_temp)\n",
    "\n",
    "# Plot the CDFs and show the plot\n",
    "_ = plt.plot(x_theor, y_theor)\n",
    "_ = plt.plot(x, y, marker='.',color='red', linestyle='none')\n",
    "_ = plt.xlabel('Temp')\n",
    "_ = plt.ylabel('CDF')\n",
    "plt.show()\n"
   ]
  },
  {
   "cell_type": "markdown",
   "metadata": {},
   "source": [
    "### Chi-Square Test"
   ]
  },
  {
   "cell_type": "markdown",
   "metadata": {},
   "source": [
    "Using the Chi-square test we can verify the visual test results. \n",
    "\n",
    "$$X^2=\\sum_{i=1}^n \\frac{(O_i - E_i)^2}{E_i}$$\n",
    "\n",
    "The observed mean values of the data sample points ($O_i$) will be compared to our expected mean value ($E_i$). We can conclude that the data has a normal distribution confirming $E_i = u_x$ by calculating the p-value from the chi-square statistic with a significance level of ($\\alpha = 0.05$ ). If the $\\alpha < 0.05$ the null hypothesis is rejected.\n",
    "\n",
    "$H_{o}$ : Sample distribution is normal. ($E_i = u_x$) \n",
    "\n",
    "$H_{a}$ : Sample distribution is not normal.\n",
    "\n",
    "Since the p-value = 1 is greater than $\\alpha$, the test fails to reject null hypothesis. Therefore we can conclude that it is a normal distribution."
   ]
  },
  {
   "cell_type": "code",
   "execution_count": 139,
   "metadata": {},
   "outputs": [
    {
     "name": "stdout",
     "output_type": "stream",
     "text": [
      "p_value = 1.0\n"
     ]
    }
   ],
   "source": [
    "#Chi-square formula: chi_sq\n",
    "chi_sq = np.sum(((df_temp - df_mean) ** 2) / df_mean)\n",
    "\n",
    "#Degrees of freedom is the length of dataframe minus 1 : deg_freedom\n",
    "deg_freedom = len(df_temp) - 1\n",
    "\n",
    "#Calculate p-value and then print it\n",
    "p_value = 1 - stats.chi2.cdf(chi_sq, deg_freedom)\n",
    "print ('p_value = ' + str (p_value))"
   ]
  },
  {
   "cell_type": "markdown",
   "metadata": {},
   "source": [
    "## 2. Is the sample size large? Are the observations independent?"
   ]
  },
  {
   "cell_type": "markdown",
   "metadata": {},
   "source": [
    "Although the data does not mention if the recorded data was taken with replacement, since the sample size, n < 10% of the world population, we can assume that the data is independent."
   ]
  },
  {
   "cell_type": "code",
   "execution_count": 140,
   "metadata": {},
   "outputs": [
    {
     "data": {
      "text/plain": [
       "130"
      ]
     },
     "execution_count": 140,
     "metadata": {},
     "output_type": "execute_result"
    }
   ],
   "source": [
    "#Check to see data size\n",
    "df_len = len(df_temp)\n",
    "df_len"
   ]
  },
  {
   "cell_type": "markdown",
   "metadata": {},
   "source": [
    "## 3. Is the true population mean really 98.6 degrees F?"
   ]
  },
  {
   "cell_type": "markdown",
   "metadata": {},
   "source": [
    "$H_{o}$ : Sample distribution mean is the same as true population mean of 98.6 degrees F.\n",
    "\n",
    "$H_{a}$ : Sample distribution is not the same as true population mean of 98.6 degrees F."
   ]
  },
  {
   "cell_type": "markdown",
   "metadata": {},
   "source": [
    "## bootstrap hypothesis test"
   ]
  },
  {
   "cell_type": "code",
   "execution_count": 141,
   "metadata": {},
   "outputs": [],
   "source": [
    "# Define a function that resamples the data and computes the summary statistic \n",
    "#computed from each sample\n",
    "\n",
    "def bootstrap_replicate_1d(data, func):\n",
    "    a = np.random.choice(data, size=len(data))\n",
    "    return func(a)\n",
    "\n",
    "def draw_bs_reps(data, func, size=1):\n",
    "    \"\"\"Draw bootstrap replicates.\"\"\"\n",
    "\n",
    "    # Initialize array of replicates: bs_replicates\n",
    "    bs_replicates = np.zeros(size)\n",
    "\n",
    "    # Generate replicates\n",
    "    for i in range(size):\n",
    "        bs_replicates[i] = bootstrap_replicate_1d(data, func)   \n",
    "\n",
    "    return bs_replicates\n"
   ]
  },
  {
   "cell_type": "code",
   "execution_count": 142,
   "metadata": {},
   "outputs": [
    {
     "name": "stderr",
     "output_type": "stream",
     "text": [
      "/Users/rachelraikar/anaconda3/lib/python3.7/site-packages/matplotlib/axes/_axes.py:6521: MatplotlibDeprecationWarning: \n",
      "The 'normed' kwarg was deprecated in Matplotlib 2.1 and will be removed in 3.1. Use 'density' instead.\n",
      "  alternative=\"'density'\", removal=\"3.1\")\n"
     ]
    },
    {
     "data": {
      "image/png": "[encoded data removed]",
      "text/plain": [
       "<Figure size 432x288 with 1 Axes>"
      ]
     },
     "metadata": {
      "needs_background": "light"
     },
     "output_type": "display_data"
    }
   ],
   "source": [
    "#resample the data 10000 times and make a sampling distribution of the sample mean\n",
    "\n",
    "temp_rep = draw_bs_reps(df_temp,np.mean,size=10000)\n",
    "\n",
    "#plot histogram of the results\n",
    "\n",
    "_ = plt.hist(temp_rep, bins=50, normed=True)\n",
    "_ = plt.xlabel('Mean Temperature (F)')\n",
    "_ = plt.ylabel('PDF')\n",
    "\n",
    "#Find a confidence interval of 95%\n",
    "conf_interval = np.percentile(temp_rep, [2.5,97.5])\n"
   ]
  },
  {
   "cell_type": "code",
   "execution_count": 143,
   "metadata": {
    "scrolled": true
   },
   "outputs": [
    {
     "name": "stdout",
     "output_type": "stream",
     "text": [
      "df mean = 98.24923076923078\n",
      "df std = 0.7303577789050377\n",
      "sampling distribution mean = 98.24889876923078\n",
      "sampling distribution std = 0.06375238861491005\n",
      "confidence interval = [98.12       98.37232692]\n"
     ]
    }
   ],
   "source": [
    "#Find the mean of the sampling distribution of the sample mean\n",
    "print('df mean = ' + str(np.mean(df_temp)))\n",
    "print('df std = ' + str(np.std(df_temp)))\n",
    "\n",
    "print('sampling distribution mean = ' + str(np.mean(temp_rep)))\n",
    "print('sampling distribution std = ' +str(np.std(temp_rep)))\n",
    "\n",
    "print('confidence interval = ' + str(conf_interval))"
   ]
  },
  {
   "cell_type": "markdown",
   "metadata": {},
   "source": [
    "### 3. A one-sample test would be used in this case since we are comparing one set of data to a single statistic.                       \n",
    "\n",
    "###It would be appropriate to use a t-test since the standard deviation of the population is not known. Instead it can be approximated by finding the standard deviation of the sample. "
   ]
  },
  {
   "cell_type": "markdown",
   "metadata": {},
   "source": [
    "## Frequentist statistical testing"
   ]
  },
  {
   "cell_type": "markdown",
   "metadata": {},
   "source": [
    "A one-sample test would be used in this case since we are comparing one set of data to a single statistic. Compared to a two-sample test which compares two sets of data. \n",
    "\n",
    "Although we will be calculating both the z-statistic and t-statistic, the t-statistic would be more appropriate to use the t-statistic. Since we are not provided with the standard deviation ($\\sigma_\\overline{x}$) of the sample distribution, the statistics are estimated with the standard error of the sampling distribution of the sample mean ($S_\\overline{x}$).\n",
    "\n",
    "But since the sample is large, the sampling distribution can be estimated as normal, so ($S_\\overline{x}(n>30)$), the z-test would work as well. "
   ]
  },
  {
   "cell_type": "code",
   "execution_count": 144,
   "metadata": {},
   "outputs": [
    {
     "name": "stdout",
     "output_type": "stream",
     "text": [
      "z-statistic: -5.475925202078116\n",
      "p-value: 4.3523151658821886e-08\n"
     ]
    }
   ],
   "source": [
    "#Perform the z-test to calculate p-value\n",
    "\n",
    "#Calculate z-statistic : z\n",
    "z = (df_mean - 98.6)/ (df_std/np.sqrt(130))\n",
    "\n",
    "#Calculate p-value from z-statistic : pval_ztest\n",
    "pval_ztest = stats.norm.cdf(z)*2\n",
    "\n",
    "#print both values\n",
    "print('z-statistic: ' + str (z))\n",
    "print('p-value: ' + str(pval_ztest))"
   ]
  },
  {
   "cell_type": "code",
   "execution_count": 145,
   "metadata": {},
   "outputs": [
    {
     "name": "stdout",
     "output_type": "stream",
     "text": [
      "t-statistic: -5.475925202078116\n",
      "p-value: 2.1887464624095175e-07\n"
     ]
    }
   ],
   "source": [
    "#Perform the t-test to calculate p-value\n",
    "\n",
    "#Calculate t-statistic : t\n",
    "t = (df_mean - 98.6) / (df_std/np.sqrt(130))\n",
    "\n",
    "#Calculate p-value from t-statistic : pval_ttest\n",
    "pval_ttest = stats.t.sf(np.abs(t), 130 - 1)*2\n",
    "\n",
    "#print both values\n",
    "print('t-statistic: ' + str (t))\n",
    "print('p-value: ' + str(pval_ttest))"
   ]
  },
  {
   "cell_type": "markdown",
   "metadata": {},
   "source": [
    "## 4. Draw a small sample of size 10 from the data and repeat both frequentist tests."
   ]
  },
  {
   "cell_type": "markdown",
   "metadata": {},
   "source": [
    "Since the sample size is small (n< 30), the distribution may match the parent population. We cannot estimate it as normal in this case. When the distribution is not normal, the t-statistic is better because it normalizes it to calculate the p-value. "
   ]
  },
  {
   "cell_type": "code",
   "execution_count": 146,
   "metadata": {},
   "outputs": [
    {
     "data": {
      "text/plain": [
       "array([98.4, 99. , 98.7, 98.8, 97.8, 97.9, 98.5, 98.6, 97.2, 98.4])"
      ]
     },
     "execution_count": 146,
     "metadata": {},
     "output_type": "execute_result"
    }
   ],
   "source": [
    "#take a random sample of n=10\n",
    "df_10 = np.random.choice(df_temp, size=10)\n",
    "\n",
    "#calculate standard deviation of the sample\n",
    "df_10_std = np.std(df_10)\n",
    "df_10"
   ]
  },
  {
   "cell_type": "code",
   "execution_count": 147,
   "metadata": {},
   "outputs": [
    {
     "name": "stdout",
     "output_type": "stream",
     "text": [
      "z-statistic (n=10): -1.1690365912518943\n",
      "p-value (n=10): 0.24238888914518997\n"
     ]
    }
   ],
   "source": [
    "#Perform the z-test for df_10 to calculate p-value\n",
    "\n",
    "#Calculate z-statistic : z_10\n",
    "z_10 = (np.mean(df_10) - 98.6)/ (df_std/np.sqrt(10))\n",
    "\n",
    "#Calculate p-value from z-statistic : pval_ztest10\n",
    "pval_ztest10 = stats.norm.cdf(z_10)*2\n",
    "\n",
    "#print both values\n",
    "print('z-statistic (n=10): ' + str (z_10))\n",
    "print('p-value (n=10): ' + str(pval_ztest10))"
   ]
  },
  {
   "cell_type": "code",
   "execution_count": 148,
   "metadata": {},
   "outputs": [
    {
     "name": "stdout",
     "output_type": "stream",
     "text": [
      "t-statistic (n=10): -1.6551651245805927\n",
      "p-value (n=10): 0.13227556853203684\n"
     ]
    }
   ],
   "source": [
    "#Perform the t-test on df_10 to calculate p-value\n",
    "\n",
    "#Calculate t-statistic : t_10\n",
    "t_10 = (np.mean(df_10) - 98.6) / (df_10_std/np.sqrt(10))\n",
    "\n",
    "#Calculate p-value from t-statistic : pval_ttest10\n",
    "pval_ttest10 = stats.t.sf(np.abs(t_10), 10 - 1)*2\n",
    "\n",
    "#print both values\n",
    "print('t-statistic (n=10): ' + str (t_10))\n",
    "print('p-value (n=10): ' + str(pval_ttest10))"
   ]
  },
  {
   "cell_type": "markdown",
   "metadata": {},
   "source": [
    "## 5. At what temperature should we consider someone's temperature to be \"abnormal\"?"
   ]
  },
  {
   "cell_type": "markdown",
   "metadata": {},
   "source": [
    "To calculate when someone's temperature is 'abnormal' we will assume a confidence interval of 95%. So anything outside two standard deviations from the mean of the sample population ($2\\sigma_\\overline{x}$) will be considered 'abnormal'. To find the 'abnormal body temperatures, we will use the bootstrap and frequentist methods to calculate $2\\sigma_\\overline{x}$ which will give us the margins of error."
   ]
  },
  {
   "cell_type": "markdown",
   "metadata": {},
   "source": [
    "I will be using the t-statistic since we do not know the population variance so it will be estimated using the standard error ($S_\\overline{x}$)."
   ]
  },
  {
   "cell_type": "code",
   "execution_count": 149,
   "metadata": {},
   "outputs": [
    {
     "name": "stdout",
     "output_type": "stream",
     "text": [
      "Confidence interval from bootstrap method = [98.12       98.37232692]\n",
      "Confidence interval from frequentist method = [98.12249319 98.37596835]\n"
     ]
    }
   ],
   "source": [
    "crit_t_stat = stats.t.isf([0.975, 0.025], [df_len - 1])\n",
    "margin_of_error = crit_t_stat * (df_std / np.sqrt(df_len))\n",
    "confidence_interval = df_mean + margin_of_error\n",
    "\n",
    "print('Confidence interval from bootstrap method = ' +str(conf_interval))\n",
    "print ('Confidence interval from frequentist method = ' +str(confidence_interval))"
   ]
  },
  {
   "cell_type": "markdown",
   "metadata": {},
   "source": [
    "The abnormal temperatures are anything outside this confidence interval."
   ]
  },
  {
   "cell_type": "markdown",
   "metadata": {},
   "source": [
    "## 6. Is there a significant difference between males and females in normal temperature?"
   ]
  },
  {
   "cell_type": "markdown",
   "metadata": {},
   "source": [
    "To check if there is a difference between male and female temperatures, we will be performing a two-sample z-test. \n",
    "\n",
    "The mean of the male temperatures ($\\mu_X$) and the mean of the female temperatures ($\\mu_Y$) will be calculated to obtain confidence interval of $\\mu_{X-Y}$. If 0 is in that interval, we fail to reject the null hypthesis.\n",
    "\n",
    "$H_{o}$ : No significant difference between males and female mean body temperature ($\\mu_{X-Y} = 0$) \n",
    "\n",
    "$H_{a}$ : Significant difference between males and female mean body temperature ($\\mu_{X-Y} \\neq 0$) "
   ]
  },
  {
   "cell_type": "code",
   "execution_count": 150,
   "metadata": {},
   "outputs": [
    {
     "name": "stdout",
     "output_type": "stream",
     "text": [
      "[-0.27844004 -0.3000215 ]\n"
     ]
    }
   ],
   "source": [
    "#Create an array of the male and female temperatures\n",
    "male = df.temperature[df.gender == 'M']\n",
    "female = df.temperature[df.gender == 'F']\n",
    "\n",
    "#Find mean temperatures for males and females\n",
    "male_mean_temp = np.mean(male)\n",
    "female_mean_temp = np.mean(female)\n",
    "\n",
    "#Find standard deviation from mean temperature of males and females\n",
    "male_std = np.sqrt(np.var(male) / len(male))\n",
    "female_std = np.sqrt(np.var(female) / len(female))\n",
    "\n",
    "#Find difference between the mean and stds between the genders\n",
    "mean_difference = male_mean_temp -female_mean_temp\n",
    "std_difference = male_std - female_std\n",
    "\n",
    "#calculate confidence interval\n",
    "gender_confidence_interval = mean_difference + np.array([-1, +1]) * 1.96 * std_difference\n",
    "print(gender_confidence_interval)"
   ]
  },
  {
   "cell_type": "markdown",
   "metadata": {},
   "source": [
    "Since 0 is not in the confidence interval, we reject the null hypothesis and can confidently say that there is a significant difference between male and female body temperatures. "
   ]
  },
  {
   "cell_type": "code",
   "execution_count": null,
   "metadata": {},
   "outputs": [],
   "source": []
  }
 ],
 "metadata": {
  "kernelspec": {
   "display_name": "Python 3",
   "language": "python",
   "name": "python3"
  },
  "language_info": {
   "codemirror_mode": {
    "name": "ipython",
    "version": 3
   },
   "file_extension": ".py",
   "mimetype": "text/x-python",
   "name": "python",
   "nbconvert_exporter": "python",
   "pygments_lexer": "ipython3",
   "version": "3.7.1"
  }
 },
 "nbformat": 4,
 "nbformat_minor": 1
}
